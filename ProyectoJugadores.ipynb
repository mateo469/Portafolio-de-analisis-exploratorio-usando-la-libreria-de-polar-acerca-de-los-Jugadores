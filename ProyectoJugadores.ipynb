{
 "cells": [
  {
   "cell_type": "markdown",
   "id": "982d4d93",
   "metadata": {},
   "source": [
    "### Proyecto sobre el analisis exploratorio de datos, en los jugadores. \n",
    "*Usando la libreria Polars*\n",
    "\n",
    "### Problema Planteado a resolver\n",
    "\n",
    "**Planteamiento:**\n",
    "Un club de fútbol desea identificar los factores que influyen en el desempeño de sus jugadores. El club considera que variables como el número de prácticas, horas de entrenamiento, asistencia al gimnasio, hábitos de fumar, nutrición y horas en casa podrían estar relacionadas con el rendimiento total del jugador.\n",
    "\n",
    "**Preguntas a responder con el análisis exploratorio:**\n",
    "\n",
    "*Distribución general de los jugadores*\n",
    "\n",
    "¿Cómo se distribuyen los futbolistas por liga (Primera, Segunda, Tercera)?\n",
    "\n",
    "¿Cuál es la distribución de edades y alturas de los jugadores?\n",
    "\n",
    "**Factores de entrenamiento y rendimiento**\n",
    "\n",
    "¿Los jugadores que entrenan más horas tienen un mayor puntaje en Total?\n",
    "\n",
    "¿La asistencia al gimnasio influye en el rendimiento promedio?\n",
    "\n",
    "¿El hábito de fumar tiene relación con el rendimiento (Total)?\n",
    "\n",
    "**Aspectos económicos**\n",
    "\n",
    "¿Cuál es el precio promedio de un jugador en cada liga?\n",
    "\n",
    "¿Existe una correlación entre el rendimiento (Total) y el precio de mercado (Precio)?\n",
    "\n",
    "**Hábitos de vida y desempeño**\n",
    "\n",
    "¿Los jugadores que cuentan con nutriólogo obtienen mejores resultados en Total?\n",
    "\n",
    "¿El número de horas en casa influye en el rendimiento?"
   ]
  },
  {
   "cell_type": "code",
   "execution_count": 422,
   "id": "3e8bccaa",
   "metadata": {},
   "outputs": [],
   "source": [
    "#Importar la librerias \n",
    "import polars as pl\n",
    "import matplotlib as plt\n",
    "from datetime import datetime\n",
    "import pandas as pandas"
   ]
  },
  {
   "cell_type": "markdown",
   "id": "d118d7f9",
   "metadata": {},
   "source": [
    "##### Lectura de la informacion"
   ]
  },
  {
   "cell_type": "code",
   "execution_count": 423,
   "id": "64aaa15b",
   "metadata": {},
   "outputs": [
    {
     "data": {
      "text/html": [
       "<div><style>\n",
       ".dataframe > thead > tr,\n",
       ".dataframe > tbody > tr {\n",
       "  text-align: right;\n",
       "  white-space: pre-wrap;\n",
       "}\n",
       "</style>\n",
       "<small>shape: (5, 14)</small><table border=\"1\" class=\"dataframe\"><thead><tr><th>Id</th><th>Nombre</th><th>Liga</th><th>Practicas</th><th>Horas_Entrenando</th><th>Altura</th><th>Precio </th><th>Juegos</th><th>Gimnasio</th><th>Fuma</th><th> Total </th><th>Nacimiento</th><th>Nutriologo</th><th>Horas_Casa</th></tr><tr><td>i64</td><td>str</td><td>str</td><td>i64</td><td>i64</td><td>f64</td><td>str</td><td>i64</td><td>str</td><td>str</td><td>f64</td><td>str</td><td>str</td><td>i64</td></tr></thead><tbody><tr><td>1</td><td>&quot;Casimiro Vargas&quot;</td><td>&quot;Primera&quot;</td><td>4</td><td>7</td><td>1.687905</td><td>&quot;1017076.54&quot;</td><td>6</td><td>&quot;Si&quot;</td><td>&quot;No&quot;</td><td>93.38</td><td>&quot;22/04/1998&quot;</td><td>&quot;No&quot;</td><td>1</td></tr><tr><td>2</td><td>&quot;Máximo Santillas&quot;</td><td>&quot;Tercera&quot;</td><td>4</td><td>5</td><td>1.802727</td><td>&quot;91239.66&quot;</td><td>6</td><td>&quot;Si&quot;</td><td>&quot;Si&quot;</td><td>76.64</td><td>&quot;17/10/1998&quot;</td><td>&quot;Si&quot;</td><td>2</td></tr><tr><td>3</td><td>&quot;Wilma Vera&quot;</td><td>&quot;Primera&quot;</td><td>2</td><td>2</td><td>1.834843</td><td>&quot;1764449.46&quot;</td><td>2</td><td>&quot;Si&quot;</td><td>&quot;No&quot;</td><td>82.31</td><td>&quot;27/11/1998&quot;</td><td>&quot;No&quot;</td><td>5</td></tr><tr><td>4</td><td>&quot;Douglas Vadillo&quot;</td><td>&quot;Segunda&quot;</td><td>3</td><td>7</td><td>1.690813</td><td>&quot;464105.59&quot;</td><td>4</td><td>&quot;No&quot;</td><td>&quot;No&quot;</td><td>78.72</td><td>&quot;13/06/1998&quot;</td><td>&quot;Si&quot;</td><td>1</td></tr><tr><td>5</td><td>&quot;Maria Blanchet&quot;</td><td>&quot;Segunda&quot;</td><td>1</td><td>2</td><td>1.678295</td><td>&quot;461403.91&quot;</td><td>6</td><td>&quot;Si&quot;</td><td>&quot;Si&quot;</td><td>81.15</td><td>&quot;09/10/1998&quot;</td><td>&quot;No&quot;</td><td>4</td></tr></tbody></table></div>"
      ],
      "text/plain": [
       "shape: (5, 14)\n",
       "┌─────┬─────────────────┬─────────┬───────────┬───┬─────────┬────────────┬────────────┬────────────┐\n",
       "│ Id  ┆ Nombre          ┆ Liga    ┆ Practicas ┆ … ┆  Total  ┆ Nacimiento ┆ Nutriologo ┆ Horas_Casa │\n",
       "│ --- ┆ ---             ┆ ---     ┆ ---       ┆   ┆ ---     ┆ ---        ┆ ---        ┆ ---        │\n",
       "│ i64 ┆ str             ┆ str     ┆ i64       ┆   ┆ f64     ┆ str        ┆ str        ┆ i64        │\n",
       "╞═════╪═════════════════╪═════════╪═══════════╪═══╪═════════╪════════════╪════════════╪════════════╡\n",
       "│ 1   ┆ Casimiro Vargas ┆ Primera ┆ 4         ┆ … ┆ 93.38   ┆ 22/04/1998 ┆ No         ┆ 1          │\n",
       "│ 2   ┆ Máximo          ┆ Tercera ┆ 4         ┆ … ┆ 76.64   ┆ 17/10/1998 ┆ Si         ┆ 2          │\n",
       "│     ┆ Santillas       ┆         ┆           ┆   ┆         ┆            ┆            ┆            │\n",
       "│ 3   ┆ Wilma Vera      ┆ Primera ┆ 2         ┆ … ┆ 82.31   ┆ 27/11/1998 ┆ No         ┆ 5          │\n",
       "│ 4   ┆ Douglas Vadillo ┆ Segunda ┆ 3         ┆ … ┆ 78.72   ┆ 13/06/1998 ┆ Si         ┆ 1          │\n",
       "│ 5   ┆ Maria Blanchet  ┆ Segunda ┆ 1         ┆ … ┆ 81.15   ┆ 09/10/1998 ┆ No         ┆ 4          │\n",
       "└─────┴─────────────────┴─────────┴───────────┴───┴─────────┴────────────┴────────────┴────────────┘"
      ]
     },
     "execution_count": 423,
     "metadata": {},
     "output_type": "execute_result"
    }
   ],
   "source": [
    "df = pl.read_csv('futbolista.csv')\n",
    "df.head()"
   ]
  },
  {
   "cell_type": "code",
   "execution_count": 424,
   "id": "d5fb76d0",
   "metadata": {},
   "outputs": [
    {
     "data": {
      "text/plain": [
       "Schema([('Id', Int64),\n",
       "        ('Nombre', String),\n",
       "        ('Liga', String),\n",
       "        ('Practicas', Int64),\n",
       "        ('Horas_Entrenando', Int64),\n",
       "        ('Altura', Float64),\n",
       "        ('Precio ', String),\n",
       "        ('Juegos', Int64),\n",
       "        ('Gimnasio', String),\n",
       "        ('Fuma', String),\n",
       "        (' Total ', Float64),\n",
       "        ('Nacimiento', String),\n",
       "        ('Nutriologo', String),\n",
       "        ('Horas_Casa', Int64)])"
      ]
     },
     "execution_count": 424,
     "metadata": {},
     "output_type": "execute_result"
    }
   ],
   "source": [
    "\n",
    "df.shape # ver la cantidad de columna\n",
    "#Ver el tipo de datos de cada columna\n",
    "df.schema"
   ]
  },
  {
   "cell_type": "code",
   "execution_count": 425,
   "id": "95d1827a",
   "metadata": {},
   "outputs": [
    {
     "data": {
      "text/html": [
       "<div><style>\n",
       ".dataframe > thead > tr,\n",
       ".dataframe > tbody > tr {\n",
       "  text-align: right;\n",
       "  white-space: pre-wrap;\n",
       "}\n",
       "</style>\n",
       "<small>shape: (400, 14)</small><table border=\"1\" class=\"dataframe\"><thead><tr><th>Id</th><th>Nombre</th><th>Liga</th><th>Practicas</th><th>Horas_Entrenando</th><th>Altura</th><th>Precio</th><th>Juegos</th><th>Gimnasio</th><th>Fuma</th><th>Total</th><th>Nacimiento</th><th>Nutriologo</th><th>Horas_Casa</th></tr><tr><td>i64</td><td>str</td><td>str</td><td>i64</td><td>i64</td><td>f64</td><td>str</td><td>i64</td><td>str</td><td>str</td><td>f64</td><td>date</td><td>str</td><td>i64</td></tr></thead><tbody><tr><td>1</td><td>&quot;Casimiro Vargas&quot;</td><td>&quot;Primera&quot;</td><td>4</td><td>7</td><td>1.687905</td><td>&quot;1017076.54&quot;</td><td>6</td><td>&quot;Si&quot;</td><td>&quot;No&quot;</td><td>93.38</td><td>1998-04-22</td><td>&quot;No&quot;</td><td>1</td></tr><tr><td>2</td><td>&quot;Máximo Santillas&quot;</td><td>&quot;Tercera&quot;</td><td>4</td><td>5</td><td>1.802727</td><td>&quot;91239.66&quot;</td><td>6</td><td>&quot;Si&quot;</td><td>&quot;Si&quot;</td><td>76.64</td><td>1998-10-17</td><td>&quot;Si&quot;</td><td>2</td></tr><tr><td>3</td><td>&quot;Wilma Vera&quot;</td><td>&quot;Primera&quot;</td><td>2</td><td>2</td><td>1.834843</td><td>&quot;1764449.46&quot;</td><td>2</td><td>&quot;Si&quot;</td><td>&quot;No&quot;</td><td>82.31</td><td>1998-11-27</td><td>&quot;No&quot;</td><td>5</td></tr><tr><td>4</td><td>&quot;Douglas Vadillo&quot;</td><td>&quot;Segunda&quot;</td><td>3</td><td>7</td><td>1.690813</td><td>&quot;464105.59&quot;</td><td>4</td><td>&quot;No&quot;</td><td>&quot;No&quot;</td><td>78.72</td><td>1998-06-13</td><td>&quot;Si&quot;</td><td>1</td></tr><tr><td>5</td><td>&quot;Maria Blanchet&quot;</td><td>&quot;Segunda&quot;</td><td>1</td><td>2</td><td>1.678295</td><td>&quot;461403.91&quot;</td><td>6</td><td>&quot;Si&quot;</td><td>&quot;Si&quot;</td><td>81.15</td><td>1998-10-09</td><td>&quot;No&quot;</td><td>4</td></tr><tr><td>&hellip;</td><td>&hellip;</td><td>&hellip;</td><td>&hellip;</td><td>&hellip;</td><td>&hellip;</td><td>&hellip;</td><td>&hellip;</td><td>&hellip;</td><td>&hellip;</td><td>&hellip;</td><td>&hellip;</td><td>&hellip;</td><td>&hellip;</td></tr><tr><td>396</td><td>&quot;Favio Olvera&quot;</td><td>&quot;Segunda&quot;</td><td>8</td><td>10</td><td>1.64861</td><td>&quot;437889.62&quot;</td><td>6</td><td>&quot;No&quot;</td><td>&quot;No&quot;</td><td>105.01</td><td>1998-07-19</td><td>&quot;Si&quot;</td><td>0</td></tr><tr><td>397</td><td>&quot;Erika Villalpando&quot;</td><td>&quot;Primera&quot;</td><td>3</td><td>6</td><td>1.734986</td><td>&quot;1465194.27&quot;</td><td>10</td><td>&quot;No&quot;</td><td>&quot;No&quot;</td><td>86.86</td><td>1998-02-28</td><td>&quot;Si&quot;</td><td>6</td></tr><tr><td>398</td><td>&quot;Alan Mansilla&quot;</td><td>&quot;Segunda&quot;</td><td>2</td><td>3</td><td>1.732246</td><td>&quot;503936.10&quot;</td><td>6</td><td>&quot;Si&quot;</td><td>&quot;No&quot;</td><td>70.21</td><td>1998-12-06</td><td>&quot;Si&quot;</td><td>4</td></tr><tr><td>399</td><td>&quot;Aldo Borundo&quot;</td><td>&quot;Segunda&quot;</td><td>2</td><td>4</td><td>1.637337</td><td>&quot;498765.80&quot;</td><td>4</td><td>&quot;Si&quot;</td><td>&quot;No&quot;</td><td>77.01</td><td>1998-05-03</td><td>&quot;Si&quot;</td><td>1</td></tr><tr><td>400</td><td>&quot;Edison Saturno&quot;</td><td>&quot;Primera&quot;</td><td>5</td><td>6</td><td>1.683563</td><td>&quot;1368641.04&quot;</td><td>11</td><td>&quot;No&quot;</td><td>&quot;No&quot;</td><td>117.64</td><td>1998-01-16</td><td>&quot;Si&quot;</td><td>7</td></tr></tbody></table></div>"
      ],
      "text/plain": [
       "shape: (400, 14)\n",
       "┌─────┬──────────────────┬─────────┬───────────┬───┬────────┬────────────┬────────────┬────────────┐\n",
       "│ Id  ┆ Nombre           ┆ Liga    ┆ Practicas ┆ … ┆ Total  ┆ Nacimiento ┆ Nutriologo ┆ Horas_Casa │\n",
       "│ --- ┆ ---              ┆ ---     ┆ ---       ┆   ┆ ---    ┆ ---        ┆ ---        ┆ ---        │\n",
       "│ i64 ┆ str              ┆ str     ┆ i64       ┆   ┆ f64    ┆ date       ┆ str        ┆ i64        │\n",
       "╞═════╪══════════════════╪═════════╪═══════════╪═══╪════════╪════════════╪════════════╪════════════╡\n",
       "│ 1   ┆ Casimiro Vargas  ┆ Primera ┆ 4         ┆ … ┆ 93.38  ┆ 1998-04-22 ┆ No         ┆ 1          │\n",
       "│ 2   ┆ Máximo Santillas ┆ Tercera ┆ 4         ┆ … ┆ 76.64  ┆ 1998-10-17 ┆ Si         ┆ 2          │\n",
       "│ 3   ┆ Wilma Vera       ┆ Primera ┆ 2         ┆ … ┆ 82.31  ┆ 1998-11-27 ┆ No         ┆ 5          │\n",
       "│ 4   ┆ Douglas Vadillo  ┆ Segunda ┆ 3         ┆ … ┆ 78.72  ┆ 1998-06-13 ┆ Si         ┆ 1          │\n",
       "│ 5   ┆ Maria Blanchet   ┆ Segunda ┆ 1         ┆ … ┆ 81.15  ┆ 1998-10-09 ┆ No         ┆ 4          │\n",
       "│ …   ┆ …                ┆ …       ┆ …         ┆ … ┆ …      ┆ …          ┆ …          ┆ …          │\n",
       "│ 396 ┆ Favio Olvera     ┆ Segunda ┆ 8         ┆ … ┆ 105.01 ┆ 1998-07-19 ┆ Si         ┆ 0          │\n",
       "│ 397 ┆ Erika            ┆ Primera ┆ 3         ┆ … ┆ 86.86  ┆ 1998-02-28 ┆ Si         ┆ 6          │\n",
       "│     ┆ Villalpando      ┆         ┆           ┆   ┆        ┆            ┆            ┆            │\n",
       "│ 398 ┆ Alan Mansilla    ┆ Segunda ┆ 2         ┆ … ┆ 70.21  ┆ 1998-12-06 ┆ Si         ┆ 4          │\n",
       "│ 399 ┆ Aldo Borundo     ┆ Segunda ┆ 2         ┆ … ┆ 77.01  ┆ 1998-05-03 ┆ Si         ┆ 1          │\n",
       "│ 400 ┆ Edison Saturno   ┆ Primera ┆ 5         ┆ … ┆ 117.64 ┆ 1998-01-16 ┆ Si         ┆ 7          │\n",
       "└─────┴──────────────────┴─────────┴───────────┴───┴────────┴────────────┴────────────┴────────────┘"
      ]
     },
     "execution_count": 425,
     "metadata": {},
     "output_type": "execute_result"
    }
   ],
   "source": [
    "#Limpiar encabezados con espacios\n",
    "df = df.rename({c: c.strip() for c in df.columns})\n",
    "#Convertir la columna nacimiento a tipo fecha\n",
    "df = df.with_columns(\n",
    "    pl.col('Nacimiento').cast(pl.Utf8).str.strip_chars().str.replace_all(r'[-.]', '/')\n",
    "    .str.to_date(format='%d/%m/%Y', strict=False)\n",
    "    .alias('Nacimiento')\n",
    ")\n",
    "df"
   ]
  },
  {
   "cell_type": "code",
   "execution_count": 426,
   "id": "88262cf2",
   "metadata": {},
   "outputs": [
    {
     "name": "stderr",
     "output_type": "stream",
     "text": [
      "C:\\Users\\monti.UNITY12\\AppData\\Local\\Temp\\ipykernel_10344\\712404724.py:2: DeprecationWarning: `pl.count()` is deprecated. Please use `pl.len()` instead.\n",
      "(Deprecated in version 0.20.5)\n",
      "  futbolista_Liga = df.group_by('Liga').agg(pl.count()).sort('count', descending=True)\n"
     ]
    },
    {
     "data": {
      "text/html": [
       "<div><style>\n",
       ".dataframe > thead > tr,\n",
       ".dataframe > tbody > tr {\n",
       "  text-align: right;\n",
       "  white-space: pre-wrap;\n",
       "}\n",
       "</style>\n",
       "<small>shape: (4, 2)</small><table border=\"1\" class=\"dataframe\"><thead><tr><th>Liga</th><th>count</th></tr><tr><td>str</td><td>u32</td></tr></thead><tbody><tr><td>&quot;Primera&quot;</td><td>184</td></tr><tr><td>&quot;Segunda&quot;</td><td>128</td></tr><tr><td>&quot;Tercera&quot;</td><td>58</td></tr><tr><td>&quot;Ninguna&quot;</td><td>30</td></tr></tbody></table></div>"
      ],
      "text/plain": [
       "shape: (4, 2)\n",
       "┌─────────┬───────┐\n",
       "│ Liga    ┆ count │\n",
       "│ ---     ┆ ---   │\n",
       "│ str     ┆ u32   │\n",
       "╞═════════╪═══════╡\n",
       "│ Primera ┆ 184   │\n",
       "│ Segunda ┆ 128   │\n",
       "│ Tercera ┆ 58    │\n",
       "│ Ninguna ┆ 30    │\n",
       "└─────────┴───────┘"
      ]
     },
     "execution_count": 426,
     "metadata": {},
     "output_type": "execute_result"
    }
   ],
   "source": [
    "#Dispribucion de futbolista por ligas\n",
    "futbolista_Liga = df.group_by('Liga').agg(pl.count()).sort('count', descending=True)\n",
    "futbolista_Liga"
   ]
  },
  {
   "cell_type": "code",
   "execution_count": 427,
   "id": "49a7d797",
   "metadata": {},
   "outputs": [
    {
     "data": {
      "text/html": [
       "<div><style>\n",
       ".dataframe > thead > tr,\n",
       ".dataframe > tbody > tr {\n",
       "  text-align: right;\n",
       "  white-space: pre-wrap;\n",
       "}\n",
       "</style>\n",
       "<small>shape: (5, 15)</small><table border=\"1\" class=\"dataframe\"><thead><tr><th>Id</th><th>Nombre</th><th>Liga</th><th>Practicas</th><th>Horas_Entrenando</th><th>Altura</th><th>Precio</th><th>Juegos</th><th>Gimnasio</th><th>Fuma</th><th>Total</th><th>Nacimiento</th><th>Nutriologo</th><th>Horas_Casa</th><th>literal</th></tr><tr><td>i64</td><td>str</td><td>str</td><td>i64</td><td>i64</td><td>f64</td><td>str</td><td>i64</td><td>str</td><td>str</td><td>f64</td><td>date</td><td>str</td><td>i64</td><td>i32</td></tr></thead><tbody><tr><td>1</td><td>&quot;Casimiro Vargas&quot;</td><td>&quot;Primera&quot;</td><td>4</td><td>7</td><td>1.687905</td><td>&quot;1017076.54&quot;</td><td>6</td><td>&quot;Si&quot;</td><td>&quot;No&quot;</td><td>93.38</td><td>1998-04-22</td><td>&quot;No&quot;</td><td>1</td><td>27</td></tr><tr><td>2</td><td>&quot;Máximo Santillas&quot;</td><td>&quot;Tercera&quot;</td><td>4</td><td>5</td><td>1.802727</td><td>&quot;91239.66&quot;</td><td>6</td><td>&quot;Si&quot;</td><td>&quot;Si&quot;</td><td>76.64</td><td>1998-10-17</td><td>&quot;Si&quot;</td><td>2</td><td>27</td></tr><tr><td>3</td><td>&quot;Wilma Vera&quot;</td><td>&quot;Primera&quot;</td><td>2</td><td>2</td><td>1.834843</td><td>&quot;1764449.46&quot;</td><td>2</td><td>&quot;Si&quot;</td><td>&quot;No&quot;</td><td>82.31</td><td>1998-11-27</td><td>&quot;No&quot;</td><td>5</td><td>27</td></tr><tr><td>4</td><td>&quot;Douglas Vadillo&quot;</td><td>&quot;Segunda&quot;</td><td>3</td><td>7</td><td>1.690813</td><td>&quot;464105.59&quot;</td><td>4</td><td>&quot;No&quot;</td><td>&quot;No&quot;</td><td>78.72</td><td>1998-06-13</td><td>&quot;Si&quot;</td><td>1</td><td>27</td></tr><tr><td>5</td><td>&quot;Maria Blanchet&quot;</td><td>&quot;Segunda&quot;</td><td>1</td><td>2</td><td>1.678295</td><td>&quot;461403.91&quot;</td><td>6</td><td>&quot;Si&quot;</td><td>&quot;Si&quot;</td><td>81.15</td><td>1998-10-09</td><td>&quot;No&quot;</td><td>4</td><td>27</td></tr></tbody></table></div>"
      ],
      "text/plain": [
       "shape: (5, 15)\n",
       "┌─────┬─────────────────┬─────────┬───────────┬───┬────────────┬────────────┬────────────┬─────────┐\n",
       "│ Id  ┆ Nombre          ┆ Liga    ┆ Practicas ┆ … ┆ Nacimiento ┆ Nutriologo ┆ Horas_Casa ┆ literal │\n",
       "│ --- ┆ ---             ┆ ---     ┆ ---       ┆   ┆ ---        ┆ ---        ┆ ---        ┆ ---     │\n",
       "│ i64 ┆ str             ┆ str     ┆ i64       ┆   ┆ date       ┆ str        ┆ i64        ┆ i32     │\n",
       "╞═════╪═════════════════╪═════════╪═══════════╪═══╪════════════╪════════════╪════════════╪═════════╡\n",
       "│ 1   ┆ Casimiro Vargas ┆ Primera ┆ 4         ┆ … ┆ 1998-04-22 ┆ No         ┆ 1          ┆ 27      │\n",
       "│ 2   ┆ Máximo          ┆ Tercera ┆ 4         ┆ … ┆ 1998-10-17 ┆ Si         ┆ 2          ┆ 27      │\n",
       "│     ┆ Santillas       ┆         ┆           ┆   ┆            ┆            ┆            ┆         │\n",
       "│ 3   ┆ Wilma Vera      ┆ Primera ┆ 2         ┆ … ┆ 1998-11-27 ┆ No         ┆ 5          ┆ 27      │\n",
       "│ 4   ┆ Douglas Vadillo ┆ Segunda ┆ 3         ┆ … ┆ 1998-06-13 ┆ Si         ┆ 1          ┆ 27      │\n",
       "│ 5   ┆ Maria Blanchet  ┆ Segunda ┆ 1         ┆ … ┆ 1998-10-09 ┆ No         ┆ 4          ┆ 27      │\n",
       "└─────┴─────────────────┴─────────┴───────────┴───┴────────────┴────────────┴────────────┴─────────┘"
      ]
     },
     "execution_count": 427,
     "metadata": {},
     "output_type": "execute_result"
    }
   ],
   "source": [
    "# Crear columna Edad\n",
    "from datetime import date\n",
    "\n",
    "#Distribuir las edades de los jugadores\n",
    "#Calcular la edad apartir de la fecha actual y la de nacimiento\n",
    "hoy = date.today()\n",
    "df = df.with_columns(\n",
    "    hoy.year - pl.col('Nacimiento').dt.year().alias('Edad')\n",
    ")\n",
    "df.head()"
   ]
  },
  {
   "cell_type": "code",
   "execution_count": 428,
   "id": "cc117c32",
   "metadata": {},
   "outputs": [
    {
     "data": {
      "text/html": [
       "<div><style>\n",
       ".dataframe > thead > tr,\n",
       ".dataframe > tbody > tr {\n",
       "  text-align: right;\n",
       "  white-space: pre-wrap;\n",
       "}\n",
       "</style>\n",
       "<small>shape: (23, 2)</small><table border=\"1\" class=\"dataframe\"><thead><tr><th>Horas_Entrenando</th><th>Puntaje Promedio</th></tr><tr><td>i64</td><td>f64</td></tr></thead><tbody><tr><td>24</td><td>152.92</td></tr><tr><td>23</td><td>196.535</td></tr><tr><td>22</td><td>174.035</td></tr><tr><td>21</td><td>150.8</td></tr><tr><td>20</td><td>180.6925</td></tr><tr><td>&hellip;</td><td>&hellip;</td></tr><tr><td>5</td><td>81.616667</td></tr><tr><td>4</td><td>80.645294</td></tr><tr><td>3</td><td>71.894603</td></tr><tr><td>2</td><td>69.512667</td></tr><tr><td>1</td><td>64.396111</td></tr></tbody></table></div>"
      ],
      "text/plain": [
       "shape: (23, 2)\n",
       "┌──────────────────┬──────────────────┐\n",
       "│ Horas_Entrenando ┆ Puntaje Promedio │\n",
       "│ ---              ┆ ---              │\n",
       "│ i64              ┆ f64              │\n",
       "╞══════════════════╪══════════════════╡\n",
       "│ 24               ┆ 152.92           │\n",
       "│ 23               ┆ 196.535          │\n",
       "│ 22               ┆ 174.035          │\n",
       "│ 21               ┆ 150.8            │\n",
       "│ 20               ┆ 180.6925         │\n",
       "│ …                ┆ …                │\n",
       "│ 5                ┆ 81.616667        │\n",
       "│ 4                ┆ 80.645294        │\n",
       "│ 3                ┆ 71.894603        │\n",
       "│ 2                ┆ 69.512667        │\n",
       "│ 1                ┆ 64.396111        │\n",
       "└──────────────────┴──────────────────┘"
      ]
     },
     "execution_count": 428,
     "metadata": {},
     "output_type": "execute_result"
    }
   ],
   "source": [
    "#Jugadores que entrenan mas horas y tienen mayor puntaje total\n",
    "relacion_horas_puntaje = (df.group_by('Horas_Entrenando')\n",
    "                          .agg(pl.col('Total').mean().alias('Puntaje Promedio')).sort('Horas_Entrenando', descending=True)\n",
    ")\n",
    "relacion_horas_puntaje"
   ]
  },
  {
   "cell_type": "code",
   "execution_count": 429,
   "id": "6caf2a1f",
   "metadata": {},
   "outputs": [
    {
     "data": {
      "text/html": [
       "<div><style>\n",
       ".dataframe > thead > tr,\n",
       ".dataframe > tbody > tr {\n",
       "  text-align: right;\n",
       "  white-space: pre-wrap;\n",
       "}\n",
       "</style>\n",
       "<small>shape: (2, 2)</small><table border=\"1\" class=\"dataframe\"><thead><tr><th>Gimnasio</th><th>Promedio rendimiento</th></tr><tr><td>str</td><td>f64</td></tr></thead><tbody><tr><td>&quot;Si&quot;</td><td>96.0</td></tr><tr><td>&quot;No&quot;</td><td>89.0</td></tr></tbody></table></div>"
      ],
      "text/plain": [
       "shape: (2, 2)\n",
       "┌──────────┬──────────────────────┐\n",
       "│ Gimnasio ┆ Promedio rendimiento │\n",
       "│ ---      ┆ ---                  │\n",
       "│ str      ┆ f64                  │\n",
       "╞══════════╪══════════════════════╡\n",
       "│ Si       ┆ 96.0                 │\n",
       "│ No       ┆ 89.0                 │\n",
       "└──────────┴──────────────────────┘"
      ]
     },
     "execution_count": 429,
     "metadata": {},
     "output_type": "execute_result"
    }
   ],
   "source": [
    "#Promedio de rendimiento según gimnasio\n",
    "promedio_rendimiento = df.group_by('Gimnasio').agg(pl.col('Total')\n",
    "                                                   .mean().round()\n",
    "                                                   .alias('Promedio rendimiento')).sort('Promedio rendimiento', descending=True)\n",
    "promedio_rendimiento"
   ]
  },
  {
   "cell_type": "code",
   "execution_count": 430,
   "id": "22eb6ed0",
   "metadata": {},
   "outputs": [
    {
     "name": "stderr",
     "output_type": "stream",
     "text": [
      "C:\\Users\\monti.UNITY12\\AppData\\Local\\Temp\\ipykernel_10344\\3236656341.py:3: DeprecationWarning: the argument `columns` for `DataFrame.pivot` is deprecated. It was renamed to `on` in version 1.0.0.\n",
      "  tabla_contingencia = df.pivot(values='Total', index='Fuma', columns='Gimnasio', aggregate_function='mean').with_columns(\n"
     ]
    },
    {
     "data": {
      "text/html": [
       "<div><style>\n",
       ".dataframe > thead > tr,\n",
       ".dataframe > tbody > tr {\n",
       "  text-align: right;\n",
       "  white-space: pre-wrap;\n",
       "}\n",
       "</style>\n",
       "<small>shape: (2, 3)</small><table border=\"1\" class=\"dataframe\"><thead><tr><th>Fuma</th><th>Si</th><th>No</th></tr><tr><td>str</td><td>f64</td><td>f64</td></tr></thead><tbody><tr><td>&quot;No&quot;</td><td>101.35</td><td>93.96</td></tr><tr><td>&quot;Si&quot;</td><td>92.55</td><td>84.45</td></tr></tbody></table></div>"
      ],
      "text/plain": [
       "shape: (2, 3)\n",
       "┌──────┬────────┬───────┐\n",
       "│ Fuma ┆ Si     ┆ No    │\n",
       "│ ---  ┆ ---    ┆ ---   │\n",
       "│ str  ┆ f64    ┆ f64   │\n",
       "╞══════╪════════╪═══════╡\n",
       "│ No   ┆ 101.35 ┆ 93.96 │\n",
       "│ Si   ┆ 92.55  ┆ 84.45 │\n",
       "└──────┴────────┴───────┘"
      ]
     },
     "execution_count": 430,
     "metadata": {},
     "output_type": "execute_result"
    }
   ],
   "source": [
    "#Relación entre fumar y rendimiento\n",
    "#Crear una tabla de contingencia usando una tabla dinamica para mostra la informacion\n",
    "tabla_contingencia = df.pivot(values='Total', index='Fuma', columns='Gimnasio', aggregate_function='mean').with_columns(\n",
    "    [pl.col(pl.Float64).round(2)]  # solo redondea columnas tipo float\n",
    ")\n",
    "tabla_contingencia\n"
   ]
  },
  {
   "cell_type": "code",
   "execution_count": 431,
   "id": "bf3647a6",
   "metadata": {},
   "outputs": [
    {
     "name": "stderr",
     "output_type": "stream",
     "text": [
      "C:\\Users\\monti.UNITY12\\AppData\\Local\\Temp\\ipykernel_10344\\1312110724.py:4: MapWithoutReturnDtypeWarning: 'return_dtype' of function python_udf must be set\n",
      "\n",
      "A later expression might fail because the output type is not known. Set return_dtype=pl.self_dtype() if the type is unchanged, or set the proper output data type.\n",
      "  df = df.with_columns(\n"
     ]
    },
    {
     "data": {
      "text/html": [
       "<div><style>\n",
       ".dataframe > thead > tr,\n",
       ".dataframe > tbody > tr {\n",
       "  text-align: right;\n",
       "  white-space: pre-wrap;\n",
       "}\n",
       "</style>\n",
       "<small>shape: (4, 2)</small><table border=\"1\" class=\"dataframe\"><thead><tr><th>Liga</th><th>Precio Promedio</th></tr><tr><td>str</td><td>f64</td></tr></thead><tbody><tr><td>&quot;Tercera&quot;</td><td>7.9507e6</td></tr><tr><td>&quot;Segunda&quot;</td><td>4.7274e7</td></tr><tr><td>&quot;Ninguna&quot;</td><td>null</td></tr><tr><td>&quot;Primera&quot;</td><td>1.0143e8</td></tr></tbody></table></div>"
      ],
      "text/plain": [
       "shape: (4, 2)\n",
       "┌─────────┬─────────────────┐\n",
       "│ Liga    ┆ Precio Promedio │\n",
       "│ ---     ┆ ---             │\n",
       "│ str     ┆ f64             │\n",
       "╞═════════╪═════════════════╡\n",
       "│ Tercera ┆ 7.9507e6        │\n",
       "│ Segunda ┆ 4.7274e7        │\n",
       "│ Ninguna ┆ null            │\n",
       "│ Primera ┆ 1.0143e8        │\n",
       "└─────────┴─────────────────┘"
      ]
     },
     "execution_count": 431,
     "metadata": {},
     "output_type": "execute_result"
    }
   ],
   "source": [
    "#¿Cuál es el precio promedio de un jugador en cada liga?\n",
    "#convertir la columna precio que esta detectada como formato de cadena, convirtiendola a formato numerico\n",
    "\n",
    "df = df.with_columns(\n",
    "    pl.col(\"Precio\")\n",
    "    .str.replace_all(r\"\\.\", \"\")       # Elimina puntos (miles)\n",
    "    .str.replace(\",\", \".\")            # Convierte coma decimal a punto\n",
    "    .map_elements(lambda x: float(x) if x.replace(\".\", \"\", 1).isdigit() else None)\n",
    "    .alias(\"Precio\")\n",
    ")\n",
    "\n",
    "#Agrupar\n",
    "promedio_liga = df.group_by('Liga').agg(pl.col('Precio').mean().round(2).alias('Precio Promedio'))\n",
    "promedio_liga"
   ]
  },
  {
   "cell_type": "code",
   "execution_count": null,
   "id": "9fdd99e2",
   "metadata": {},
   "outputs": [
    {
     "ename": "ModuleNotFoundError",
     "evalue": "No module named 'pyarrow'",
     "output_type": "error",
     "traceback": [
      "\u001b[31m---------------------------------------------------------------------------\u001b[39m",
      "\u001b[31mModuleNotFoundError\u001b[39m                       Traceback (most recent call last)",
      "\u001b[36mCell\u001b[39m\u001b[36m \u001b[39m\u001b[32mIn[432]\u001b[39m\u001b[32m, line 4\u001b[39m\n\u001b[32m      1\u001b[39m \u001b[38;5;66;03m#Graficar el promedio liga en una grafica de pastel\u001b[39;00m\n\u001b[32m      2\u001b[39m \u001b[38;5;66;03m#Convertir los datos a listas para que Matplotlib pudiera usarlos:\u001b[39;00m\n\u001b[32m      3\u001b[39m \u001b[38;5;66;03m# Convertir a pandas para graficar\u001b[39;00m\n\u001b[32m----> \u001b[39m\u001b[32m4\u001b[39m df_plot = \u001b[43mpromedio_liga\u001b[49m\u001b[43m.\u001b[49m\u001b[43mto_pandas\u001b[49m\u001b[43m(\u001b[49m\u001b[43m)\u001b[49m\n\u001b[32m      6\u001b[39m \u001b[38;5;66;03m# Eliminar valores nulos si es necesario\u001b[39;00m\n\u001b[32m      7\u001b[39m df_plot = df_plot.dropna()\n",
      "\u001b[36mFile \u001b[39m\u001b[32mc:\\Users\\monti.UNITY12\\OneDrive\\Documentos\\Proyecto de analisis exploratorios de jugadores\\venv\\Lib\\site-packages\\polars\\dataframe\\frame.py:2561\u001b[39m, in \u001b[36mDataFrame.to_pandas\u001b[39m\u001b[34m(self, use_pyarrow_extension_array, **kwargs)\u001b[39m\n\u001b[32m   2556\u001b[39m \u001b[38;5;28;01mif\u001b[39;00m Object \u001b[38;5;129;01min\u001b[39;00m \u001b[38;5;28mself\u001b[39m.dtypes:\n\u001b[32m   2557\u001b[39m     \u001b[38;5;28;01mreturn\u001b[39;00m \u001b[38;5;28mself\u001b[39m._to_pandas_with_object_columns(\n\u001b[32m   2558\u001b[39m         use_pyarrow_extension_array=use_pyarrow_extension_array, **kwargs\n\u001b[32m   2559\u001b[39m     )\n\u001b[32m-> \u001b[39m\u001b[32m2561\u001b[39m \u001b[38;5;28;01mreturn\u001b[39;00m \u001b[38;5;28;43mself\u001b[39;49m\u001b[43m.\u001b[49m\u001b[43m_to_pandas_without_object_columns\u001b[49m\u001b[43m(\u001b[49m\n\u001b[32m   2562\u001b[39m \u001b[43m    \u001b[49m\u001b[38;5;28;43mself\u001b[39;49m\u001b[43m,\u001b[49m\u001b[43m \u001b[49m\u001b[43muse_pyarrow_extension_array\u001b[49m\u001b[43m=\u001b[49m\u001b[43muse_pyarrow_extension_array\u001b[49m\u001b[43m,\u001b[49m\u001b[43m \u001b[49m\u001b[43m*\u001b[49m\u001b[43m*\u001b[49m\u001b[43mkwargs\u001b[49m\n\u001b[32m   2563\u001b[39m \u001b[43m\u001b[49m\u001b[43m)\u001b[49m\n",
      "\u001b[36mFile \u001b[39m\u001b[32mc:\\Users\\monti.UNITY12\\OneDrive\\Documentos\\Proyecto de analisis exploratorios de jugadores\\venv\\Lib\\site-packages\\polars\\dataframe\\frame.py:2612\u001b[39m, in \u001b[36mDataFrame._to_pandas_without_object_columns\u001b[39m\u001b[34m(self, df, use_pyarrow_extension_array, **kwargs)\u001b[39m\n\u001b[32m   2609\u001b[39m \u001b[38;5;28;01mif\u001b[39;00m \u001b[38;5;129;01mnot\u001b[39;00m df.width:  \u001b[38;5;66;03m# Empty dataframe, cannot infer schema from batches\u001b[39;00m\n\u001b[32m   2610\u001b[39m     \u001b[38;5;28;01mreturn\u001b[39;00m pd.DataFrame()\n\u001b[32m-> \u001b[39m\u001b[32m2612\u001b[39m record_batches = \u001b[43mdf\u001b[49m\u001b[43m.\u001b[49m\u001b[43m_df\u001b[49m\u001b[43m.\u001b[49m\u001b[43mto_pandas\u001b[49m\u001b[43m(\u001b[49m\u001b[43m)\u001b[49m\n\u001b[32m   2613\u001b[39m tbl = pa.Table.from_batches(record_batches)\n\u001b[32m   2614\u001b[39m \u001b[38;5;28;01mif\u001b[39;00m use_pyarrow_extension_array:\n",
      "\u001b[31mModuleNotFoundError\u001b[39m: No module named 'pyarrow'"
     ]
    }
   ],
   "source": []
  }
 ],
 "metadata": {
  "kernelspec": {
   "display_name": "venv",
   "language": "python",
   "name": "python3"
  },
  "language_info": {
   "codemirror_mode": {
    "name": "ipython",
    "version": 3
   },
   "file_extension": ".py",
   "mimetype": "text/x-python",
   "name": "python",
   "nbconvert_exporter": "python",
   "pygments_lexer": "ipython3",
   "version": "3.13.5"
  }
 },
 "nbformat": 4,
 "nbformat_minor": 5
}
