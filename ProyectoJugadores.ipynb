{
 "cells": [
  {
   "cell_type": "markdown",
   "id": "982d4d93",
   "metadata": {},
   "source": [
    "### Proyecto sobre el analisis exploratorio de datos, en los jugadores. \n",
    "*Usando la libreria Polars*"
   ]
  },
  {
   "cell_type": "code",
   "execution_count": 2,
   "id": "3e8bccaa",
   "metadata": {},
   "outputs": [],
   "source": [
    "#Importar la librerias \n",
    "import polars as pl\n",
    "import matplotlib as plt"
   ]
  }
 ],
 "metadata": {
  "kernelspec": {
   "display_name": "venv",
   "language": "python",
   "name": "python3"
  },
  "language_info": {
   "codemirror_mode": {
    "name": "ipython",
    "version": 3
   },
   "file_extension": ".py",
   "mimetype": "text/x-python",
   "name": "python",
   "nbconvert_exporter": "python",
   "pygments_lexer": "ipython3",
   "version": "3.13.5"
  }
 },
 "nbformat": 4,
 "nbformat_minor": 5
}
